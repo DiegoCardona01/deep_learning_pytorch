{
 "cells": [
  {
   "cell_type": "code",
   "execution_count": 1,
   "metadata": {},
   "outputs": [
    {
     "name": "stdout",
     "output_type": "stream",
     "text": [
      "Hola mundo\n"
     ]
    }
   ],
   "source": [
    "print('Hola mundo')"
   ]
  },
  {
   "cell_type": "code",
   "execution_count": 6,
   "metadata": {},
   "outputs": [],
   "source": [
    "import gzip\n",
    "import os\n",
    "from os.path import isfile, join\n",
    "import numpy as np"
   ]
  },
  {
   "cell_type": "code",
   "execution_count": 7,
   "metadata": {},
   "outputs": [],
   "source": [
    "mnist_path = './mnist/'"
   ]
  },
  {
   "cell_type": "code",
   "execution_count": 10,
   "metadata": {},
   "outputs": [],
   "source": [
    "def list_files(mnist_path):\n",
    "    return [join(mnist_path, f) for f in os.listdir(mnist_path) if isfile(join(mnist_path, f))]"
   ]
  },
  {
   "cell_type": "code",
   "execution_count": 14,
   "metadata": {},
   "outputs": [
    {
     "name": "stdout",
     "output_type": "stream",
     "text": [
      "File 0: ./mnist/train-images-idx3-ubyte.gz\n",
      "File 1: ./mnist/t10k-images-idx3-ubyte.gz\n",
      "File 2: ./mnist/train-labels-idx1-ubyte.gz\n",
      "File 3: ./mnist/t10k-labels-idx1-ubyte.gz\n"
     ]
    }
   ],
   "source": [
    "k = 0\n",
    "for i in list_files(mnist_path):\n",
    "    print(f\"File {k}: {i}\")\n",
    "    k += 1"
   ]
  },
  {
   "cell_type": "code",
   "execution_count": 17,
   "metadata": {},
   "outputs": [],
   "source": [
    "def get_images(mnist_path):\n",
    "    for f in list_files(mnist_path):\n",
    "        if 'train-images' in f:\n",
    "            with gzip.open(f, 'rb') as data:\n",
    "                _ = int.from_bytes(data.read(4), 'big')\n",
    "                num_images = int.from_bytes(data.read(4), 'big')\n",
    "                rows = int.from_bytes(data.read(4), 'big')\n",
    "                cols = int.from_bytes(data.read(4), 'big')\n",
    "                train_images = data.read()\n",
    "                x_train = np.frombuffer(train_images, dtype=np.uint8)\n",
    "                x_train = x_train.reshape(num_images, rows, cols)\n",
    "        elif 'train-labels' in f:\n",
    "            with gzip.open(f, 'rb') as data:\n",
    "                train_labels = data.read()[8:]\n",
    "                y_train = np.frombuffer(train_labels, dtype=np.uint8)\n",
    "        if 't10k-images' in f:\n",
    "            with gzip.open(f, 'rb') as data:\n",
    "                _ = int.from_bytes(data.read(4), 'big')\n",
    "                num_images = int.from_bytes(data.read(4), 'big')\n",
    "                rows = int.from_bytes(data.read(4), 'big')\n",
    "                cols = int.from_bytes(data.read(4), 'big')\n",
    "                test_images = data.read()\n",
    "                x_test = np.frombuffer(test_images, dtype=np.uint8)\n",
    "                x_test = x_test.reshape(num_images, rows, cols)\n",
    "        elif 't10k-labels' in f:\n",
    "            with gzip.open(f, 'rb') as data:\n",
    "                test_labels = data.read()[8:]\n",
    "                y_test = np.frombuffer(test_labels, dtype=np.uint8)\n",
    "    \n",
    "    return x_train, y_train, x_test, y_test"
   ]
  },
  {
   "cell_type": "code",
   "execution_count": 18,
   "metadata": {},
   "outputs": [],
   "source": [
    "x_train, y_train, x_test, y_test = get_images(mnist_path)"
   ]
  },
  {
   "cell_type": "code",
   "execution_count": 21,
   "metadata": {},
   "outputs": [
    {
     "name": "stdout",
     "output_type": "stream",
     "text": [
      "(60000, 28, 28)\n"
     ]
    }
   ],
   "source": [
    "print(x_train.shape)"
   ]
  },
  {
   "cell_type": "code",
   "execution_count": 22,
   "metadata": {},
   "outputs": [
    {
     "name": "stdout",
     "output_type": "stream",
     "text": [
      "(60000,)\n"
     ]
    }
   ],
   "source": [
    "print(y_train.shape)"
   ]
  },
  {
   "cell_type": "code",
   "execution_count": 24,
   "metadata": {},
   "outputs": [
    {
     "name": "stdout",
     "output_type": "stream",
     "text": [
      "(10000, 28, 28) (10000,)\n"
     ]
    }
   ],
   "source": [
    "print(x_test.shape, y_test.shape)"
   ]
  },
  {
   "cell_type": "code",
   "execution_count": 27,
   "metadata": {},
   "outputs": [],
   "source": [
    "import matplotlib.pyplot as plt\n",
    "%matplotlib inline"
   ]
  },
  {
   "cell_type": "code",
   "execution_count": 28,
   "metadata": {},
   "outputs": [],
   "source": [
    "def plot_number(image):\n",
    "    plt.imshow(image.squeeze(), cmap=plt.get_cmap('gray'))\n",
    "    plt.axis('off')"
   ]
  },
  {
   "cell_type": "code",
   "execution_count": 36,
   "metadata": {},
   "outputs": [
    {
     "name": "stdout",
     "output_type": "stream",
     "text": [
      "Element number 5\n"
     ]
    },
    {
     "data": {
      "image/png": "[encoded data removed]",
      "text/plain": [
       "<Figure size 640x480 with 1 Axes>"
      ]
     },
     "metadata": {},
     "output_type": "display_data"
    }
   ],
   "source": [
    "rand_idx = np.random.randint(len(y_test))\n",
    "print(f\"Element number {y_test[rand_idx]}\")\n",
    "plot_number(x_test[rand_idx])"
   ]
  },
  {
   "cell_type": "code",
   "execution_count": null,
   "metadata": {},
   "outputs": [],
   "source": []
  },
  {
   "cell_type": "code",
   "execution_count": null,
   "metadata": {},
   "outputs": [],
   "source": []
  }
 ],
 "metadata": {
  "kernelspec": {
   "display_name": "py310",
   "language": "python",
   "name": "python3"
  },
  "language_info": {
   "codemirror_mode": {
    "name": "ipython",
    "version": 3
   },
   "file_extension": ".py",
   "mimetype": "text/x-python",
   "name": "python",
   "nbconvert_exporter": "python",
   "pygments_lexer": "ipython3",
   "version": "3.10.13"
  }
 },
 "nbformat": 4,
 "nbformat_minor": 2
}
